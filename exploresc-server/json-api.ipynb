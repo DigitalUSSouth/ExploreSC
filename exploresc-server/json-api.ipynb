{
 "cells": [
  {
   "cell_type": "code",
   "execution_count": 47,
   "metadata": {},
   "outputs": [],
   "source": [
    "import urllib.request \n",
    "import json\n",
    "from pprint import pprint\n",
    "import MySQLdb as mariadb\n",
    "connection = mariadb.connect('192.168.132.139','user','p','SCEBase')\n",
    "cursor = connection.cursor()"
   ]
  },
  {
   "cell_type": "code",
   "execution_count": 69,
   "metadata": {},
   "outputs": [
    {
     "data": {
      "text/plain": [
       "5131"
      ]
     },
     "execution_count": 69,
     "metadata": {},
     "output_type": "execute_result"
    }
   ],
   "source": [
    "query = (\"SELECT id,post_title,post_name,post_date,\"\n",
    "+\"post_excerpt,post_content,post_type FROM scecms_posts WHERE post_status='publish'\")\n",
    "\n",
    "cursor.execute(query)"
   ]
  },
  {
   "cell_type": "code",
   "execution_count": 74,
   "metadata": {},
   "outputs": [],
   "source": [
    "post_types = {}\n",
    "counter = 1\n",
    "posts = []\n",
    "for doc in cursor:\n",
    "    post_type = doc[6]\n",
    "    docdict = {\n",
    "        'id': doc[0],\n",
    "        'title': doc[1],\n",
    "        'name': doc[2],\n",
    "        'date': doc[3],\n",
    "        'excerpt': doc[4],\n",
    "        'content': doc[5],\n",
    "        'type': doc[6]\n",
    "    }\n",
    "    posts.append(docdict)\n",
    "    if post_type in post_types:\n",
    "        post_types[post_type] += 1\n",
    "    else:\n",
    "        post_types[post_type] = 1\n",
    "\n"
   ]
  },
  {
   "cell_type": "code",
   "execution_count": 75,
   "metadata": {},
   "outputs": [
    {
     "name": "stdout",
     "output_type": "stream",
     "text": [
      "14\n",
      "{'acf-field': 146,\n",
      " 'acf-field-group': 17,\n",
      " 'document': 222,\n",
      " 'entry': 1988,\n",
      " 'image': 1961,\n",
      " 'ml-slider': 1,\n",
      " 'nav_menu_item': 12,\n",
      " 'overview': 39,\n",
      " 'page': 12,\n",
      " 'partner': 66,\n",
      " 'recording': 4,\n",
      " 'staff-member': 619,\n",
      " 'text-blocks': 2,\n",
      " 'video': 42}\n",
      "5131\n"
     ]
    }
   ],
   "source": [
    "print(len(post_types))\n",
    "pprint (post_types)\n",
    "print(len(posts))"
   ]
  },
  {
   "cell_type": "code",
   "execution_count": 85,
   "metadata": {},
   "outputs": [
    {
     "name": "stdout",
     "output_type": "stream",
     "text": [
      "{'content': 'Even into the 21<sup>st</sup> century, South Carolina\\x92s '\n",
      "            'economy and culture are tied to agriculture. Historically '\n",
      "            'important crops include rice, indigo, cotton, soybeans, peaches, '\n",
      "            'and tobacco. With more than 4 million acres of farmland, the '\n",
      "            'state produces $3 billion annually, between crops and livestock. '\n",
      "            'Check out the entries on rice, indigo, cotton, soybeans, peaches, '\n",
      "            'and tobacco to learn more.',\n",
      " 'date': datetime.datetime(2015, 11, 9, 14, 55, 16),\n",
      " 'excerpt': '',\n",
      " 'id': 338,\n",
      " 'name': 'agriculture-south-carolina',\n",
      " 'title': 'Agriculture',\n",
      " 'type': 'overview'}\n"
     ]
    }
   ],
   "source": [
    "pposts = []\n",
    "for post in posts:\n",
    "    if post['type'] == 'overview':\n",
    "        pposts.append(post)\n",
    "pprint(pposts[0])"
   ]
  },
  {
   "cell_type": "code",
   "execution_count": 42,
   "metadata": {},
   "outputs": [
    {
     "name": "stdout",
     "output_type": "stream",
     "text": [
      "Date: Tue, 23 Jan 2018 19:21:22 GMT\n",
      "Server: Apache/2.4.18 (Ubuntu)\n",
      "X-Robots-Tag: noindex\n",
      "Link: <https://www.scencyclopedia.org/sce/wp-json/>; rel=\"https://api.w.org/\"\n",
      "X-Content-Type-Options: nosniff\n",
      "Access-Control-Expose-Headers: X-WP-Total, X-WP-TotalPages\n",
      "Access-Control-Allow-Headers: Authorization, Content-Type\n",
      "X-WP-Total: 0\n",
      "X-WP-TotalPages: 0\n",
      "Allow: GET\n",
      "Content-Length: 4\n",
      "Content-Type: application/json; charset=UTF-8\n",
      "Connection: close\n",
      "\n",
      "\n",
      "[]\n"
     ]
    }
   ],
   "source": [
    "url = 'https://www.scencyclopedia.org/sce/wp-json/wp/v2/posts?categories=1'\n",
    "response = urllib.request.urlopen(url)\n",
    "bytes = response.read()\n",
    "print(response.headers)\n",
    "text = bytes.decode('utf-8')\n",
    "ddata = json.loads(text)\n",
    "pprint(ddata)"
   ]
  },
  {
   "cell_type": "code",
   "execution_count": 22,
   "metadata": {},
   "outputs": [
    {
     "name": "stdout",
     "output_type": "stream",
     "text": [
      "dict_keys(['/yoast/v1', '/wp/v2/types', '/wp/v2/users/(?P<id>[\\\\d]+)', '/wp/v2/categories', '/wp/v2/categories/(?P<id>[\\\\d]+)', '/wp/v2/comments/(?P<id>[\\\\d]+)', '/wp/v2/tags/(?P<id>[\\\\d]+)', '/wp/v2/pages/(?P<id>[\\\\d]+)', '/wp/v2/pages/(?P<parent>[\\\\d]+)/revisions', '/wp/v2/pages', '/wp/v2/posts/(?P<parent>[\\\\d]+)/revisions', '/', '/wp/v2/settings', '/yoast/v1/ryte', '/yoast/v1/statistics', '/wp/v2/comments', '/wp/v2/users', '/wp/v2/posts/(?P<id>[\\\\d]+)', '/wp/v2/taxonomies/(?P<taxonomy>[\\\\w-]+)', '/wp/v2/statuses', '/wp/v2/media', '/wp/v2/posts', '/yoast/v1/reindex_posts', '/wp/v2/types/(?P<type>[\\\\w-]+)', '/oembed/1.0', '/wp/v2/taxonomies', '/wp/v2', '/wp/v2/media/(?P<id>[\\\\d]+)', '/oembed/1.0/proxy', '/wp/v2/users/me', '/wp/v2/tags', '/yoast/v1/configurator', '/oembed/1.0/embed', '/wp/v2/posts/(?P<parent>[\\\\d]+)/revisions/(?P<id>[\\\\d]+)', '/wp/v2/pages/(?P<parent>[\\\\d]+)/revisions/(?P<id>[\\\\d]+)', '/wp/v2/statuses/(?P<status>[\\\\w-]+)'])\n"
     ]
    }
   ],
   "source": [
    "print(ddata['routes'].keys())"
   ]
  },
  {
   "cell_type": "code",
   "execution_count": null,
   "metadata": {},
   "outputs": [],
   "source": [
    "print"
   ]
  }
 ],
 "metadata": {
  "kernelspec": {
   "display_name": "Python 3",
   "language": "python",
   "name": "python3"
  },
  "language_info": {
   "codemirror_mode": {
    "name": "ipython",
    "version": 3
   },
   "file_extension": ".py",
   "mimetype": "text/x-python",
   "name": "python",
   "nbconvert_exporter": "python",
   "pygments_lexer": "ipython3",
   "version": "3.5.2"
  }
 },
 "nbformat": 4,
 "nbformat_minor": 2
}
